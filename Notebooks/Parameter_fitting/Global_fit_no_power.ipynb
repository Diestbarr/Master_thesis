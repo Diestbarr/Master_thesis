{
 "cells": [
  {
   "cell_type": "code",
   "execution_count": 1,
   "id": "ada9f183",
   "metadata": {},
   "outputs": [],
   "source": [
    "import sympy as sp\n",
    "import numpy as np\n",
    "import pandas as pd\n",
    "import matplotlib.pyplot as plt\n",
    "\n",
    "from sympy.core.rules import Transform"
   ]
  },
  {
   "cell_type": "code",
   "execution_count": 2,
   "id": "47c7135b",
   "metadata": {},
   "outputs": [
    {
     "data": {
      "text/latex": [
       "$\\displaystyle C_{10}$"
      ],
      "text/plain": [
       "C_{10}"
      ]
     },
     "execution_count": 2,
     "metadata": {},
     "output_type": "execute_result"
    }
   ],
   "source": [
    "c9 = sp.Symbol('C_9')\n",
    "c10 = sp.Symbol('C_{10}')\n",
    "\n",
    "c10"
   ]
  },
  {
   "cell_type": "code",
   "execution_count": 3,
   "id": "44c49884",
   "metadata": {},
   "outputs": [],
   "source": [
    "#Bins A-E: P4; Bins F-K: P5; Bins L-P: Br. To perform an analysis for a given set of bins, comment every other bin\n",
    "\n",
    "Bin_A =-0.47915377024246647 - 0.10947434731161536*c10 - 0.0062504959546786166*c10**2 - 0.0940280405207798*c9 + 0.0049569172066558165*c10*c9 + 0.016855186076784514*c9**2\n",
    "\n",
    "Bin_B = 0.020069625180234855 - 0.2074381763805912*c10 - 0.021326475947249977*c10**2 - 0.03126737987041434*c9 - 0.0038897525368235507*c10*c9 + 0.02576789351518935*c9**2\n",
    "\n",
    "Bin_C = 0.6564370511682361 - 0.11519538393199504*c10 - 0.02363737925803596*c10**2 + 0.07842826342720992*c9 + 0.04168277399632283*c10*c9 + 0.018124443749645388*c9**2\n",
    "\n",
    "Bin_D = 0.9330997394589815 - 0.029495260969107342*c10 - 0.0053986680115896265*c10**2 + 0.044688558818841394*c9 + 0.023170026501711186*c10*c9 - 0.004202574396910987*c9**2\n",
    "\n",
    "Bin_E = 1.0111156874713163 - 0.005334279105657299*c10 - 0.0003102134818284865*c10**2 + 0.016254761003703388*c9 + 0.006953704505904709*c10*c9 - 0.0035050851915383306*c9**2\n",
    "\n",
    "Bin_F = 0.6823432914827462 - 0.06186180436337633*c10 - 0.013091192810280747*c10**2 - 0.10591606491539518*c9 - 0.009488134170468707*c10*c9 + 0.005752113031995796*c9**2\n",
    "\n",
    "Bin_G = 0.20899070174840328 + 0.0005985811360533817*c10 - 0.004450269777057179*c10**2 -  0.21087022335100966*c9 - 0.00013546724859979552*c10*c9 + 0.002910839334905837*c9**2\n",
    "\n",
    "Bin_H = -0.44976148860845444 - 0.03586014684821933*c10 + 0.0015297970001760313*c10**2 - 0.28604531658960936*c9 - 0.021360110049006724*c10*c9 + 0.03560096228100854*c9**2\n",
    "\n",
    "Bin_J = -0.7786038349568044 - 0.05623945836373169*c10 + 0.004364860201683272*c10**2 - 0.18884661433423433*c9 + 0.01721335906751581*c10*c9 + 0.06182775337763631*c9**2\n",
    "\n",
    "Bin_K = -0.8850065557601301 - 0.0462275591341873*c10 + 0.010243297794960542*c10**2 - 0.10944712042016609*c9 + 0.04038356313834774*c10*c9 + 0.05171843704728803*c9**2\n",
    "\n",
    "Bin_L = 0.8826737904889442 - 0.06443119854554208*c10 + 0.007477229987743556*c10**2 + 0.01970491696985865*c9 + 2.881778908514615*10**(-8)*c10*c9 + 0.007580732175549402*c9**2\n",
    "\n",
    "Bin_M =0.5363599990306791 - 0.1305570360848733*c10 + 0.015151175920081661*c10**2 + 0.05572344908999436*c9 + 5.898609909342953*10**(-9)*c10*c9 + 0.015291965402957004*c9**2\n",
    "\n",
    "Bin_N = 0.5661622952521577 - 0.17343979247323893*c10 + 0.020127749099149866*c10**2 + 0.09205551993103768*c9 + 8.225348232634978*10**(-10)*c10*c9 + 0.020278126572201332*c9**2\n",
    "\n",
    "Bin_O = 0.9044533194841543 - 0.28383316376375095*c10 + 0.03293893562292613*c10**2 + 0.17741754711173133*c9 + 5.5292997555981494*10**(-8)*c10*c9 + 0.03314186326144024*c9**2\n",
    "\n",
    "Bin_P = 1.132406829618405 - 0.3389883672554536*c10 + 0.03933966756661475*c10**2 + 0.24350034449066038*c9 - 3.80956346161178*10**(-8)*c10*c9 + 0.03954378650678672*c9**2\n",
    "\n",
    "\n"
   ]
  },
  {
   "cell_type": "code",
   "execution_count": 4,
   "id": "dbc03aa1",
   "metadata": {},
   "outputs": [],
   "source": [
    "Bins = np.array([Bin_A, Bin_B, Bin_C, Bin_D, Bin_E, Bin_F, Bin_G,Bin_H, Bin_J,Bin_K, Bin_L, Bin_M, Bin_N, Bin_O, Bin_P]) #Puts the bins together in an array"
   ]
  },
  {
   "cell_type": "code",
   "execution_count": 5,
   "id": "74dd352a",
   "metadata": {},
   "outputs": [
    {
     "data": {
      "text/html": [
       "<div>\n",
       "<style scoped>\n",
       "    .dataframe tbody tr th:only-of-type {\n",
       "        vertical-align: middle;\n",
       "    }\n",
       "\n",
       "    .dataframe tbody tr th {\n",
       "        vertical-align: top;\n",
       "    }\n",
       "\n",
       "    .dataframe thead th {\n",
       "        text-align: right;\n",
       "    }\n",
       "</style>\n",
       "<table border=\"1\" class=\"dataframe\">\n",
       "  <thead>\n",
       "    <tr style=\"text-align: right;\">\n",
       "      <th></th>\n",
       "      <th>N_Obs</th>\n",
       "      <th>Name</th>\n",
       "      <th>Bin</th>\n",
       "      <th>Experiment</th>\n",
       "      <th>Th_Pred</th>\n",
       "      <th>Th_Err</th>\n",
       "      <th>Exp_Value</th>\n",
       "      <th>Exp_Err</th>\n",
       "      <th>Diff</th>\n",
       "      <th>Joint_Err</th>\n",
       "      <th>CM</th>\n",
       "      <th>Side</th>\n",
       "    </tr>\n",
       "  </thead>\n",
       "  <tbody>\n",
       "    <tr>\n",
       "      <th>110</th>\n",
       "      <td>111</td>\n",
       "      <td>Br(B0--&gt;K0*mumu)</td>\n",
       "      <td>[0.1,0.98]</td>\n",
       "      <td>LHCb</td>\n",
       "      <td>0.882674</td>\n",
       "      <td>0.816386</td>\n",
       "      <td>0.89408</td>\n",
       "      <td>0.092005</td>\n",
       "      <td>0.011406</td>\n",
       "      <td>0.821554</td>\n",
       "      <td>0.54</td>\n",
       "      <td>0.44</td>\n",
       "    </tr>\n",
       "    <tr>\n",
       "      <th>111</th>\n",
       "      <td>112</td>\n",
       "      <td>Br(B0--&gt;K0*mumu)</td>\n",
       "      <td>[1.1,2.5]</td>\n",
       "      <td>LHCb</td>\n",
       "      <td>0.536360</td>\n",
       "      <td>0.343942</td>\n",
       "      <td>0.45640</td>\n",
       "      <td>0.056140</td>\n",
       "      <td>-0.079960</td>\n",
       "      <td>0.348493</td>\n",
       "      <td>1.80</td>\n",
       "      <td>0.70</td>\n",
       "    </tr>\n",
       "    <tr>\n",
       "      <th>112</th>\n",
       "      <td>113</td>\n",
       "      <td>Br(B0--&gt;K0*mumu)</td>\n",
       "      <td>[2.5,4]</td>\n",
       "      <td>LHCb</td>\n",
       "      <td>0.566162</td>\n",
       "      <td>0.389796</td>\n",
       "      <td>0.50100</td>\n",
       "      <td>0.061828</td>\n",
       "      <td>-0.065162</td>\n",
       "      <td>0.394669</td>\n",
       "      <td>3.25</td>\n",
       "      <td>0.75</td>\n",
       "    </tr>\n",
       "    <tr>\n",
       "      <th>113</th>\n",
       "      <td>114</td>\n",
       "      <td>Br(B0--&gt;K0*mumu)</td>\n",
       "      <td>[4,6]</td>\n",
       "      <td>LHCb</td>\n",
       "      <td>0.904453</td>\n",
       "      <td>0.659725</td>\n",
       "      <td>0.70800</td>\n",
       "      <td>0.074458</td>\n",
       "      <td>-0.196453</td>\n",
       "      <td>0.663913</td>\n",
       "      <td>5.00</td>\n",
       "      <td>1.00</td>\n",
       "    </tr>\n",
       "    <tr>\n",
       "      <th>114</th>\n",
       "      <td>115</td>\n",
       "      <td>Br(B0--&gt;K0*mumu)</td>\n",
       "      <td>[6,8]</td>\n",
       "      <td>LHCb</td>\n",
       "      <td>1.132407</td>\n",
       "      <td>0.893789</td>\n",
       "      <td>0.85800</td>\n",
       "      <td>0.083066</td>\n",
       "      <td>-0.274407</td>\n",
       "      <td>0.897640</td>\n",
       "      <td>7.00</td>\n",
       "      <td>1.00</td>\n",
       "    </tr>\n",
       "  </tbody>\n",
       "</table>\n",
       "</div>"
      ],
      "text/plain": [
       "     N_Obs              Name         Bin Experiment   Th_Pred    Th_Err  \\\n",
       "110    111  Br(B0-->K0*mumu)  [0.1,0.98]       LHCb  0.882674  0.816386   \n",
       "111    112  Br(B0-->K0*mumu)   [1.1,2.5]       LHCb  0.536360  0.343942   \n",
       "112    113  Br(B0-->K0*mumu)     [2.5,4]       LHCb  0.566162  0.389796   \n",
       "113    114  Br(B0-->K0*mumu)       [4,6]       LHCb  0.904453  0.659725   \n",
       "114    115  Br(B0-->K0*mumu)       [6,8]       LHCb  1.132407  0.893789   \n",
       "\n",
       "     Exp_Value   Exp_Err      Diff  Joint_Err    CM  Side  \n",
       "110    0.89408  0.092005  0.011406   0.821554  0.54  0.44  \n",
       "111    0.45640  0.056140 -0.079960   0.348493  1.80  0.70  \n",
       "112    0.50100  0.061828 -0.065162   0.394669  3.25  0.75  \n",
       "113    0.70800  0.074458 -0.196453   0.663913  5.00  1.00  \n",
       "114    0.85800  0.083066 -0.274407   0.897640  7.00  1.00  "
      ]
     },
     "execution_count": 5,
     "metadata": {},
     "output_type": "execute_result"
    }
   ],
   "source": [
    "P4 = pd.read_pickle(\"Selected_P4\")\n",
    "P5 = pd.read_pickle(\"Selected_P5\")\n",
    "Br = pd.read_pickle(\"Selected_Br\")\n",
    "\n",
    "Exp = np.array(pd.concat([P4.Exp_Value,P5.Exp_Value,Br.Exp_Value]))\n",
    "\n",
    "Br\n"
   ]
  },
  {
   "cell_type": "code",
   "execution_count": 6,
   "id": "6ddf0826",
   "metadata": {},
   "outputs": [
    {
     "data": {
      "text/plain": [
       "array([0.29121543, 0.33120072, 0.40087543, 0.27356671, 0.21449475,\n",
       "       0.17672833, 0.17949842, 0.19916547, 0.14530724, 0.12458429,\n",
       "       0.821554  , 0.34849344, 0.39466917, 0.66391339, 0.89764024])"
      ]
     },
     "execution_count": 6,
     "metadata": {},
     "output_type": "execute_result"
    }
   ],
   "source": [
    "Joint = np.array(pd.concat([P4.Joint_Err,P5.Joint_Err,Br.Joint_Err]))#Extracts the joint error for these bins\n",
    "\n",
    "Joint"
   ]
  },
  {
   "cell_type": "code",
   "execution_count": 7,
   "id": "aae22529",
   "metadata": {},
   "outputs": [
    {
     "data": {
      "text/html": [
       "<div>\n",
       "<style scoped>\n",
       "    .dataframe tbody tr th:only-of-type {\n",
       "        vertical-align: middle;\n",
       "    }\n",
       "\n",
       "    .dataframe tbody tr th {\n",
       "        vertical-align: top;\n",
       "    }\n",
       "\n",
       "    .dataframe thead th {\n",
       "        text-align: right;\n",
       "    }\n",
       "</style>\n",
       "<table border=\"1\" class=\"dataframe\">\n",
       "  <thead>\n",
       "    <tr style=\"text-align: right;\">\n",
       "      <th></th>\n",
       "      <th>N_Obs</th>\n",
       "      <th>Name</th>\n",
       "      <th>Bin</th>\n",
       "      <th>Experiment</th>\n",
       "      <th>Th_Pred</th>\n",
       "      <th>Th_Err</th>\n",
       "      <th>Exp_Value</th>\n",
       "      <th>Exp_Err</th>\n",
       "      <th>Diff</th>\n",
       "      <th>Joint_Err</th>\n",
       "      <th>CM</th>\n",
       "      <th>Side</th>\n",
       "    </tr>\n",
       "  </thead>\n",
       "  <tbody>\n",
       "    <tr>\n",
       "      <th>18</th>\n",
       "      <td>19</td>\n",
       "      <td>P4p(B--&gt;K*mumu)</td>\n",
       "      <td>[0.1,0.98]</td>\n",
       "      <td>LHCb</td>\n",
       "      <td>-0.479154</td>\n",
       "      <td>0.169441</td>\n",
       "      <td>-0.27000</td>\n",
       "      <td>0.236846</td>\n",
       "      <td>0.209154</td>\n",
       "      <td>0.291215</td>\n",
       "      <td>0.54</td>\n",
       "      <td>0.44</td>\n",
       "    </tr>\n",
       "    <tr>\n",
       "      <th>26</th>\n",
       "      <td>27</td>\n",
       "      <td>P4p(B--&gt;K*mumu)</td>\n",
       "      <td>[1.1,2.5]</td>\n",
       "      <td>LHCb</td>\n",
       "      <td>0.020070</td>\n",
       "      <td>0.166114</td>\n",
       "      <td>0.16000</td>\n",
       "      <td>0.286531</td>\n",
       "      <td>0.139930</td>\n",
       "      <td>0.331201</td>\n",
       "      <td>1.80</td>\n",
       "      <td>0.70</td>\n",
       "    </tr>\n",
       "    <tr>\n",
       "      <th>34</th>\n",
       "      <td>35</td>\n",
       "      <td>P4p(B--&gt;K*mumu)</td>\n",
       "      <td>[2.5,4]</td>\n",
       "      <td>LHCb</td>\n",
       "      <td>0.656437</td>\n",
       "      <td>0.203856</td>\n",
       "      <td>0.87000</td>\n",
       "      <td>0.345172</td>\n",
       "      <td>0.213563</td>\n",
       "      <td>0.400875</td>\n",
       "      <td>3.25</td>\n",
       "      <td>0.75</td>\n",
       "    </tr>\n",
       "    <tr>\n",
       "      <th>42</th>\n",
       "      <td>43</td>\n",
       "      <td>P4p(B--&gt;K*mumu)</td>\n",
       "      <td>[4,6]</td>\n",
       "      <td>LHCb</td>\n",
       "      <td>0.933100</td>\n",
       "      <td>0.145817</td>\n",
       "      <td>0.62400</td>\n",
       "      <td>0.231465</td>\n",
       "      <td>-0.309100</td>\n",
       "      <td>0.273567</td>\n",
       "      <td>5.00</td>\n",
       "      <td>1.00</td>\n",
       "    </tr>\n",
       "    <tr>\n",
       "      <th>50</th>\n",
       "      <td>51</td>\n",
       "      <td>P4p(B--&gt;K*mumu)</td>\n",
       "      <td>[6,8]</td>\n",
       "      <td>LHCb</td>\n",
       "      <td>1.011116</td>\n",
       "      <td>0.107648</td>\n",
       "      <td>1.14800</td>\n",
       "      <td>0.185526</td>\n",
       "      <td>0.136884</td>\n",
       "      <td>0.214495</td>\n",
       "      <td>7.00</td>\n",
       "      <td>1.00</td>\n",
       "    </tr>\n",
       "    <tr>\n",
       "      <th>19</th>\n",
       "      <td>20</td>\n",
       "      <td>P5p(B--&gt;K*mumu)</td>\n",
       "      <td>[0.1,0.98]</td>\n",
       "      <td>LHCb</td>\n",
       "      <td>0.682343</td>\n",
       "      <td>0.147078</td>\n",
       "      <td>0.52100</td>\n",
       "      <td>0.097985</td>\n",
       "      <td>-0.161343</td>\n",
       "      <td>0.176728</td>\n",
       "      <td>0.54</td>\n",
       "      <td>0.44</td>\n",
       "    </tr>\n",
       "    <tr>\n",
       "      <th>27</th>\n",
       "      <td>28</td>\n",
       "      <td>P5p(B--&gt;K*mumu)</td>\n",
       "      <td>[1.1,2.5]</td>\n",
       "      <td>LHCb</td>\n",
       "      <td>0.208991</td>\n",
       "      <td>0.131021</td>\n",
       "      <td>0.36500</td>\n",
       "      <td>0.122691</td>\n",
       "      <td>0.156009</td>\n",
       "      <td>0.179498</td>\n",
       "      <td>1.80</td>\n",
       "      <td>0.70</td>\n",
       "    </tr>\n",
       "    <tr>\n",
       "      <th>35</th>\n",
       "      <td>36</td>\n",
       "      <td>P5p(B--&gt;K*mumu)</td>\n",
       "      <td>[2.5,4]</td>\n",
       "      <td>LHCb</td>\n",
       "      <td>-0.449761</td>\n",
       "      <td>0.133816</td>\n",
       "      <td>-0.15000</td>\n",
       "      <td>0.147513</td>\n",
       "      <td>0.299761</td>\n",
       "      <td>0.199165</td>\n",
       "      <td>3.25</td>\n",
       "      <td>0.75</td>\n",
       "    </tr>\n",
       "    <tr>\n",
       "      <th>43</th>\n",
       "      <td>44</td>\n",
       "      <td>P5p(B--&gt;K*mumu)</td>\n",
       "      <td>[4,6]</td>\n",
       "      <td>LHCb</td>\n",
       "      <td>-0.778604</td>\n",
       "      <td>0.086586</td>\n",
       "      <td>-0.43900</td>\n",
       "      <td>0.116692</td>\n",
       "      <td>0.339604</td>\n",
       "      <td>0.145307</td>\n",
       "      <td>5.00</td>\n",
       "      <td>1.00</td>\n",
       "    </tr>\n",
       "    <tr>\n",
       "      <th>51</th>\n",
       "      <td>52</td>\n",
       "      <td>P5p(B--&gt;K*mumu)</td>\n",
       "      <td>[6,8]</td>\n",
       "      <td>LHCb</td>\n",
       "      <td>-0.885007</td>\n",
       "      <td>0.080754</td>\n",
       "      <td>-0.58300</td>\n",
       "      <td>0.094868</td>\n",
       "      <td>0.302007</td>\n",
       "      <td>0.124584</td>\n",
       "      <td>7.00</td>\n",
       "      <td>1.00</td>\n",
       "    </tr>\n",
       "    <tr>\n",
       "      <th>110</th>\n",
       "      <td>111</td>\n",
       "      <td>Br(B0--&gt;K0*mumu)</td>\n",
       "      <td>[0.1,0.98]</td>\n",
       "      <td>LHCb</td>\n",
       "      <td>0.882674</td>\n",
       "      <td>0.816386</td>\n",
       "      <td>0.89408</td>\n",
       "      <td>0.092005</td>\n",
       "      <td>0.011406</td>\n",
       "      <td>0.821554</td>\n",
       "      <td>0.54</td>\n",
       "      <td>0.44</td>\n",
       "    </tr>\n",
       "    <tr>\n",
       "      <th>111</th>\n",
       "      <td>112</td>\n",
       "      <td>Br(B0--&gt;K0*mumu)</td>\n",
       "      <td>[1.1,2.5]</td>\n",
       "      <td>LHCb</td>\n",
       "      <td>0.536360</td>\n",
       "      <td>0.343942</td>\n",
       "      <td>0.45640</td>\n",
       "      <td>0.056140</td>\n",
       "      <td>-0.079960</td>\n",
       "      <td>0.348493</td>\n",
       "      <td>1.80</td>\n",
       "      <td>0.70</td>\n",
       "    </tr>\n",
       "    <tr>\n",
       "      <th>112</th>\n",
       "      <td>113</td>\n",
       "      <td>Br(B0--&gt;K0*mumu)</td>\n",
       "      <td>[2.5,4]</td>\n",
       "      <td>LHCb</td>\n",
       "      <td>0.566162</td>\n",
       "      <td>0.389796</td>\n",
       "      <td>0.50100</td>\n",
       "      <td>0.061828</td>\n",
       "      <td>-0.065162</td>\n",
       "      <td>0.394669</td>\n",
       "      <td>3.25</td>\n",
       "      <td>0.75</td>\n",
       "    </tr>\n",
       "    <tr>\n",
       "      <th>113</th>\n",
       "      <td>114</td>\n",
       "      <td>Br(B0--&gt;K0*mumu)</td>\n",
       "      <td>[4,6]</td>\n",
       "      <td>LHCb</td>\n",
       "      <td>0.904453</td>\n",
       "      <td>0.659725</td>\n",
       "      <td>0.70800</td>\n",
       "      <td>0.074458</td>\n",
       "      <td>-0.196453</td>\n",
       "      <td>0.663913</td>\n",
       "      <td>5.00</td>\n",
       "      <td>1.00</td>\n",
       "    </tr>\n",
       "    <tr>\n",
       "      <th>114</th>\n",
       "      <td>115</td>\n",
       "      <td>Br(B0--&gt;K0*mumu)</td>\n",
       "      <td>[6,8]</td>\n",
       "      <td>LHCb</td>\n",
       "      <td>1.132407</td>\n",
       "      <td>0.893789</td>\n",
       "      <td>0.85800</td>\n",
       "      <td>0.083066</td>\n",
       "      <td>-0.274407</td>\n",
       "      <td>0.897640</td>\n",
       "      <td>7.00</td>\n",
       "      <td>1.00</td>\n",
       "    </tr>\n",
       "  </tbody>\n",
       "</table>\n",
       "</div>"
      ],
      "text/plain": [
       "     N_Obs              Name         Bin Experiment   Th_Pred    Th_Err  \\\n",
       "18      19   P4p(B-->K*mumu)  [0.1,0.98]       LHCb -0.479154  0.169441   \n",
       "26      27   P4p(B-->K*mumu)   [1.1,2.5]       LHCb  0.020070  0.166114   \n",
       "34      35   P4p(B-->K*mumu)     [2.5,4]       LHCb  0.656437  0.203856   \n",
       "42      43   P4p(B-->K*mumu)       [4,6]       LHCb  0.933100  0.145817   \n",
       "50      51   P4p(B-->K*mumu)       [6,8]       LHCb  1.011116  0.107648   \n",
       "19      20   P5p(B-->K*mumu)  [0.1,0.98]       LHCb  0.682343  0.147078   \n",
       "27      28   P5p(B-->K*mumu)   [1.1,2.5]       LHCb  0.208991  0.131021   \n",
       "35      36   P5p(B-->K*mumu)     [2.5,4]       LHCb -0.449761  0.133816   \n",
       "43      44   P5p(B-->K*mumu)       [4,6]       LHCb -0.778604  0.086586   \n",
       "51      52   P5p(B-->K*mumu)       [6,8]       LHCb -0.885007  0.080754   \n",
       "110    111  Br(B0-->K0*mumu)  [0.1,0.98]       LHCb  0.882674  0.816386   \n",
       "111    112  Br(B0-->K0*mumu)   [1.1,2.5]       LHCb  0.536360  0.343942   \n",
       "112    113  Br(B0-->K0*mumu)     [2.5,4]       LHCb  0.566162  0.389796   \n",
       "113    114  Br(B0-->K0*mumu)       [4,6]       LHCb  0.904453  0.659725   \n",
       "114    115  Br(B0-->K0*mumu)       [6,8]       LHCb  1.132407  0.893789   \n",
       "\n",
       "     Exp_Value   Exp_Err      Diff  Joint_Err    CM  Side  \n",
       "18    -0.27000  0.236846  0.209154   0.291215  0.54  0.44  \n",
       "26     0.16000  0.286531  0.139930   0.331201  1.80  0.70  \n",
       "34     0.87000  0.345172  0.213563   0.400875  3.25  0.75  \n",
       "42     0.62400  0.231465 -0.309100   0.273567  5.00  1.00  \n",
       "50     1.14800  0.185526  0.136884   0.214495  7.00  1.00  \n",
       "19     0.52100  0.097985 -0.161343   0.176728  0.54  0.44  \n",
       "27     0.36500  0.122691  0.156009   0.179498  1.80  0.70  \n",
       "35    -0.15000  0.147513  0.299761   0.199165  3.25  0.75  \n",
       "43    -0.43900  0.116692  0.339604   0.145307  5.00  1.00  \n",
       "51    -0.58300  0.094868  0.302007   0.124584  7.00  1.00  \n",
       "110    0.89408  0.092005  0.011406   0.821554  0.54  0.44  \n",
       "111    0.45640  0.056140 -0.079960   0.348493  1.80  0.70  \n",
       "112    0.50100  0.061828 -0.065162   0.394669  3.25  0.75  \n",
       "113    0.70800  0.074458 -0.196453   0.663913  5.00  1.00  \n",
       "114    0.85800  0.083066 -0.274407   0.897640  7.00  1.00  "
      ]
     },
     "execution_count": 7,
     "metadata": {},
     "output_type": "execute_result"
    }
   ],
   "source": [
    "Global_obs = pd.concat([P4,P5,Br])\n",
    "\n",
    "Global_obs"
   ]
  },
  {
   "cell_type": "code",
   "execution_count": 8,
   "id": "1ac4631c",
   "metadata": {},
   "outputs": [
    {
     "data": {
      "text/latex": [
       "$\\displaystyle 0.0331418632614402 C_{9}^{2} + 5.52929975559815 \\cdot 10^{-8} C_{9} C_{10} + 0.177417547111731 C_{9} + 0.0329389356229261 C_{10}^{2} - 0.283833163763751 C_{10} + 0.904453319484154$"
      ],
      "text/plain": [
       "0.0331418632614402*C_9**2 + 5.52929975559815e-8*C_9*C_{10} + 0.177417547111731*C_9 + 0.0329389356229261*C_{10}**2 - 0.283833163763751*C_{10} + 0.904453319484154"
      ]
     },
     "execution_count": 8,
     "metadata": {},
     "output_type": "execute_result"
    }
   ],
   "source": [
    "Bins[13]"
   ]
  },
  {
   "cell_type": "code",
   "execution_count": 9,
   "id": "17feb3f8",
   "metadata": {},
   "outputs": [],
   "source": [
    "Inverse = np.load(\"InvCovMat.npy\")"
   ]
  },
  {
   "cell_type": "code",
   "execution_count": 10,
   "id": "d1d567cd",
   "metadata": {},
   "outputs": [
    {
     "data": {
      "text/latex": [
       "$\\displaystyle 0.790718120578149 C_{9}^{4} + 0.470224827438009 C_{9}^{3} C_{10} + 0.123142681029774 C_{9}^{3} + 0.931242568784648 C_{9}^{2} C_{10}^{2} - 5.97978118503352 C_{9}^{2} C_{10} + 13.1420097239324 C_{9}^{2} + 0.0910756826104805 C_{9} C_{10}^{3} + 2.42009539414612 C_{9} C_{10}^{2} - 26.0141518417036 C_{9} C_{10} + 36.8306926193924 C_{9} + 0.312592551670927 C_{10}^{4} - 4.57837752485647 C_{10}^{3} + 23.0729123087942 C_{10}^{2} - 22.705695361376 C_{10} + 35.5658835642173$"
      ],
      "text/plain": [
       "0.790718120578149*C_9**4 + 0.470224827438009*C_9**3*C_{10} + 0.123142681029774*C_9**3 + 0.931242568784648*C_9**2*C_{10}**2 - 5.97978118503352*C_9**2*C_{10} + 13.1420097239324*C_9**2 + 0.0910756826104805*C_9*C_{10}**3 + 2.42009539414612*C_9*C_{10}**2 - 26.0141518417036*C_9*C_{10} + 36.8306926193924*C_9 + 0.312592551670927*C_{10}**4 - 4.57837752485647*C_{10}**3 + 23.0729123087942*C_{10}**2 - 22.705695361376*C_{10} + 35.5658835642173"
      ]
     },
     "execution_count": 10,
     "metadata": {},
     "output_type": "execute_result"
    }
   ],
   "source": [
    "tags = np.array(Global_obs.N_Obs-1) #extracts the N_obs of the selected observables\n",
    "\n",
    "Q=0\n",
    "\n",
    "for i in range(len(Bins)):\n",
    "    for j in range(len(Bins)):\n",
    "        Q+= (Exp[i]-Bins[i])*(Inverse[tags[i],tags[j]])*(Exp[j]-Bins[j])\n",
    "\n",
    "        \n",
    "Q = sp.simplify(Q)\n",
    "\n",
    "Q"
   ]
  },
  {
   "cell_type": "code",
   "execution_count": 11,
   "id": "5ee213e9",
   "metadata": {},
   "outputs": [
    {
     "data": {
      "text/plain": [
       "function"
      ]
     },
     "execution_count": 11,
     "metadata": {},
     "output_type": "execute_result"
    }
   ],
   "source": [
    "chi_d = sp.lambdify([c9,c10], Q, \"numpy\")#dependent values of chi\n",
    "\n",
    "type(chi_d)"
   ]
  },
  {
   "cell_type": "code",
   "execution_count": 12,
   "id": "5607a453",
   "metadata": {},
   "outputs": [],
   "source": [
    "n = 201 #Number of C9 values\n",
    "m = 201 #Number of C10 values\n",
    "\n",
    "C9s = np.linspace(-2,0,n) #Array contaning the C9 values\n",
    "C10s = np.linspace(-1,1,m)#Array for the C10 values\n",
    "\n",
    "Chi_dep = np.empty([n,m])\n",
    "\n",
    "for i in range(n):\n",
    "    for j in range(m):\n",
    "        Chi_dep[i,j]=chi_d(C9s[i],C10s[j])"
   ]
  },
  {
   "cell_type": "code",
   "execution_count": 13,
   "id": "e2abf5c7",
   "metadata": {},
   "outputs": [
    {
     "name": "stdout",
     "output_type": "stream",
     "text": [
      "The minium value for chi^2 is 11.710712497750631\n",
      "The grid coordinates for this minimum value are [ 80 102]\n",
      "The fitted value for C9 is -1.2\n",
      "The fitted value for C10 is 0.02\n"
     ]
    }
   ],
   "source": [
    "min_chi = np.min(Chi_dep)\n",
    "coord = np.where(Chi_dep==min_chi)\n",
    "coord = np.array([coord[0][0], coord[1][0]])\n",
    "\n",
    "C9_fit = C9s[coord[0]]\n",
    "C10_fit = C10s[coord[1]]\n",
    "\n",
    "print(\"The minium value for chi^2 is\", min_chi)\n",
    "print(\"The grid coordinates for this minimum value are\", coord )\n",
    "print(\"The fitted value for C9 is\", round(C9_fit,2))\n",
    "print(\"The fitted value for C10 is\", round(C10_fit,2))"
   ]
  },
  {
   "cell_type": "code",
   "execution_count": 14,
   "id": "641866d4",
   "metadata": {},
   "outputs": [
    {
     "data": {
      "image/png": "[encoded data removed]",
      "text/plain": [
       "<Figure size 432x288 with 2 Axes>"
      ]
     },
     "metadata": {
      "needs_background": "light"
     },
     "output_type": "display_data"
    }
   ],
   "source": [
    "plt.imshow(np.log2(Chi_dep-10.6),extent=[-1,1,0,-2] ,cmap=\"nipy_spectral\")\n",
    "\n",
    "plt.colorbar(label=r'$log_2(\\chi^2 -10.6)$')\n",
    "#plt.plot(C10_fit, C9_fit, marker=\"+\", markersize=12, color=\"white\")\n",
    "\n",
    "\n",
    "plt.ylabel(r'$C_{9}$', fontsize=16)\n",
    "plt.xlabel(r'$C_{10}$', fontsize=16)\n",
    "plt.title('Global fit(with power corrections)', fontsize=14)\n",
    "\n",
    "\n",
    "#plt.savefig(\"Dep_P5_Rainbow_Wilsons.jpg\", dpi=300)\n",
    "plt.show()\n"
   ]
  },
  {
   "cell_type": "code",
   "execution_count": 15,
   "id": "6ace5206",
   "metadata": {},
   "outputs": [
    {
     "name": "stdout",
     "output_type": "stream",
     "text": [
      "-1.54 -0.83\n",
      "-0.3 0.37\n"
     ]
    }
   ],
   "source": [
    "#Find the errors for the joint fit for C9 and C10\n",
    "\n",
    "Delta_chi = Chi_dep - min_chi #Computes the difference with the minimum value\n",
    "\n",
    "limit = 2.3 #1 sigma upper limit\n",
    "\n",
    "low_C9 = max(C9s)\n",
    "up_C9 = min(C9s)\n",
    "\n",
    "low_C10 = max(C10s)\n",
    "up_C10 = min(C10s)\n",
    "\n",
    "for i in range(len(C9s)):\n",
    "    for j in range(len(C10s)):#Scans any posible combination of C9 and 10\n",
    "        \n",
    "        if (Delta_chi[i,j]<=limit):#If the chi^2 is within the 1 sigma region it actualises the boundaries\n",
    "            low_C9 = min(C9s[i], low_C9)\n",
    "            up_C9 = max(C9s[i], up_C9)\n",
    "            \n",
    "            low_C10 = min(C10s[j], low_C10)\n",
    "            up_C10 = max(C10s[j], up_C10)\n",
    "\n",
    "print(round(low_C9,2),round(up_C9,2))\n",
    "print(round(low_C10,2),round(up_C10,2))"
   ]
  },
  {
   "cell_type": "code",
   "execution_count": 16,
   "id": "9ccc0d07",
   "metadata": {},
   "outputs": [
    {
     "data": {
      "image/png": "[encoded data removed]",
      "text/plain": [
       "<Figure size 432x288 with 1 Axes>"
      ]
     },
     "metadata": {
      "needs_background": "light"
     },
     "output_type": "display_data"
    }
   ],
   "source": [
    "#Contour plot for C9 and C10\n",
    "\n",
    "plt.contourf(C10s,C9s,Delta_chi, levels=[2.3,6.17,11.8], cmap=\"Reds\", extend='both', antialiased=True)\n",
    "plt.ylim(0,-2)\n",
    "plt.plot(C10_fit,C9_fit, marker=\"+\", markersize=12, color=\"black\")\n",
    "\n",
    "plt.text(x=0.25, y=-1.1, s=r'$1 \\sigma$')\n",
    "plt.text(x=0.5, y=-1.1, s=r'$2 \\sigma$')\n",
    "plt.text(x=0.75, y=-1.1, s=r'$3 \\sigma$')\n",
    "\n",
    "plt.ylabel(r'$C_{9}$', fontsize=16)\n",
    "plt.xlabel(r'$C_{10}$', fontsize=16)\n",
    "#plt.title('Global fit (no power corrections)', fontsize=14)\n",
    "\n",
    "plt.axhline(y=low_C9, linestyle='dashed', color=\"black\", linewidth=1)\n",
    "plt.axhline(y=up_C9, linestyle='dashed', color=\"black\", linewidth=1)\n",
    "\n",
    "plt.axvline(x=low_C10, linestyle='dashed', color=\"black\", linewidth=1)\n",
    "plt.axvline(x=up_C10, linestyle='dashed', color=\"black\", linewidth=1)\n",
    "\n",
    "\n",
    "plt.savefig(\"Global_fit_no_power.png\",bbox_inches=\"tight\", dpi=300)\n",
    "plt.show()"
   ]
  },
  {
   "cell_type": "code",
   "execution_count": 17,
   "id": "1a8a1c22",
   "metadata": {},
   "outputs": [
    {
     "name": "stdout",
     "output_type": "stream",
     "text": [
      "The C10 value which minimizes chi^2 is 0.59\n",
      "The 1 sigma lower and upper bounds are [ 0.35 , 0.85 ]\n"
     ]
    },
    {
     "data": {
      "image/png": "[encoded data removed]",
      "text/plain": [
       "<Figure size 432x288 with 1 Axes>"
      ]
     },
     "metadata": {
      "needs_background": "light"
     },
     "output_type": "display_data"
    }
   ],
   "source": [
    "No_9 = Chi_dep[200,:] #Chi^2 values with C_9 = 0\n",
    "\n",
    "C10_min_chi = np.min(No_9)\n",
    "\n",
    "index = np.where(No_9==C10_min_chi)\n",
    "minC10 = round(C10s[index[0][0]],3)\n",
    "\n",
    "\n",
    "levels=[1,2.71,4] #Confidence levels for 1sigma, 2sigma and 3sigma respectively\n",
    "\n",
    "dif= No_9-C10_min_chi\n",
    "\n",
    "aux = np.where(dif<levels[0])\n",
    "\n",
    "sigma_region = aux[0] #Region within 1 sigma of the minumum value\n",
    "bounds = [sigma_region[0], sigma_region[-1]] #Index of the boundaries of the 1 sigma region\n",
    "\n",
    "low_bound = round(C10s[bounds[0]],2)\n",
    "upper_bound = round(C10s[bounds[1]],2)\n",
    "\n",
    "\n",
    "print(\"The C10 value which minimizes chi^2 is\", minC10)\n",
    "print(\"The 1 sigma lower and upper bounds are [\", low_bound,\",\", upper_bound,\"]\")\n",
    "\n",
    "\n",
    "plt.plot(C10s, dif)\n",
    "\n",
    "plt.axhline(y=levels[0], linestyle=\"dashed\", color=\"orange\")\n",
    "plt.yscale('log')\n",
    "plt.xlabel(r'$C_{10}$', fontsize=16)\n",
    "plt.ylabel(r'$log(\\Delta\\chi^2)$', fontsize=16)\n",
    "plt.title(r'Global fit (power): $C_{9}=0$', fontsize=14)\n",
    "plt.show()"
   ]
  },
  {
   "cell_type": "code",
   "execution_count": 18,
   "id": "37f39102",
   "metadata": {},
   "outputs": [
    {
     "name": "stdout",
     "output_type": "stream",
     "text": [
      "The C9 value which minimizes chi^2 is -1.21\n",
      "The 1 sigma lower and upper bounds are [ -1.43 , -0.98 ]\n"
     ]
    },
    {
     "data": {
      "image/png": "[encoded data removed]",
      "text/plain": [
       "<Figure size 432x288 with 1 Axes>"
      ]
     },
     "metadata": {
      "needs_background": "light"
     },
     "output_type": "display_data"
    }
   ],
   "source": [
    "No_10 = Chi_dep[:,100] #Chi^2 values with C_10 = 0\n",
    "\n",
    "C9_min_chi = np.min(No_10)\n",
    "\n",
    "index = np.where(No_10==C9_min_chi)\n",
    "minC9 = round(C9s[index[0][0]],3)\n",
    "\n",
    "\n",
    "levels=[1,2.71,4] #Confidence levels for 1sigma, 2sigma and 3sigma respectively\n",
    "\n",
    "dif= No_10-C9_min_chi\n",
    "\n",
    "aux = np.where(dif<levels[0])\n",
    "\n",
    "sigma_region = aux[0] #Region within 1 sigma of the minumum value\n",
    "bounds = [sigma_region[0], sigma_region[-1]] #Index of the boundaries of the 1 sigma region\n",
    "\n",
    "low_bound = round(C9s[bounds[0]],2)\n",
    "upper_bound = round(C9s[bounds[1]],2)\n",
    "\n",
    "\n",
    "print(\"The C9 value which minimizes chi^2 is\", minC9)\n",
    "print(\"The 1 sigma lower and upper bounds are [\", low_bound,\",\", upper_bound,\"]\")\n",
    "\n",
    "\n",
    "plt.plot(C9s, dif)\n",
    "\n",
    "plt.axhline(y=levels[0], linestyle=\"dashed\", color=\"orange\")\n",
    "plt.yscale('log')\n",
    "plt.xlabel(r'$C_{9}$', fontsize=16)\n",
    "plt.ylabel(r'$log(\\Delta\\chi^2)$', fontsize=16)\n",
    "plt.title(r'Global fit(with power): $C_{10}=0$', fontsize=14)\n",
    "plt.show()\n",
    "\n",
    "\n",
    "\n"
   ]
  },
  {
   "cell_type": "code",
   "execution_count": 19,
   "id": "6b8093df",
   "metadata": {},
   "outputs": [],
   "source": [
    "np.save(\"No_power_delta_chi.npy\", arr=Delta_chi)"
   ]
  }
 ],
 "metadata": {
  "kernelspec": {
   "display_name": "Python 3 (ipykernel)",
   "language": "python",
   "name": "python3"
  },
  "language_info": {
   "codemirror_mode": {
    "name": "ipython",
    "version": 3
   },
   "file_extension": ".py",
   "mimetype": "text/x-python",
   "name": "python",
   "nbconvert_exporter": "python",
   "pygments_lexer": "ipython3",
   "version": "3.8.12"
  }
 },
 "nbformat": 4,
 "nbformat_minor": 5
}
